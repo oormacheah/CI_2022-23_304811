{
 "cells": [
  {
   "cell_type": "code",
   "execution_count": 1,
   "metadata": {},
   "outputs": [],
   "source": [
    "import logging\n",
    "import numpy as np\n",
    "import random\n",
    "from math import inf\n",
    "from itertools import chain\n",
    "from typing import Callable\n",
    "from gx_utils import *\n",
    "\n",
    "logging.basicConfig(format=\"%(message)s\", level=logging.INFO)"
   ]
  },
  {
   "cell_type": "markdown",
   "metadata": {},
   "source": [
    "## Graph search for the Set Covering problem"
   ]
  },
  {
   "cell_type": "code",
   "execution_count": 2,
   "metadata": {},
   "outputs": [],
   "source": [
    "class State:\n",
    "    def __init__(self, data: list):\n",
    "        self._list = sorted(data.copy())\n",
    "        self.set_covered = set(chain(*self._list))\n",
    "\n",
    "    def __hash__(self):\n",
    "        return hash(tuple(chain(*self._list)))\n",
    "\n",
    "    def __eq__(self, other):\n",
    "        return tuple(self.set_covered) == tuple(other.set_covered)\n",
    "\n",
    "    def __contains__(self, other):\n",
    "        return set(other) in self.set_covered\n",
    "\n",
    "    def __le__(self, other):\n",
    "        return self.set_covered <= other.set_covered\n",
    "\n",
    "    def __lt__(self, other):\n",
    "        return self.set_covered < other.set_covered\n",
    "\n",
    "    def __str__(self):\n",
    "        return str(chain(*self._list))\n",
    "\n",
    "    def __repr__(self):\n",
    "        return repr(self._list)\n",
    "\n",
    "    def covers(self, other: list):\n",
    "        return set(other) <= self.set_covered\n",
    "\n",
    "    @property\n",
    "    def data(self):\n",
    "        return self._list\n",
    "\n",
    "    def copy_data(self):\n",
    "        return self._list.copy()"
   ]
  },
  {
   "cell_type": "code",
   "execution_count": 3,
   "metadata": {},
   "outputs": [],
   "source": [
    "def goal_test(state):\n",
    "    return state.set_covered == goal"
   ]
  },
  {
   "cell_type": "code",
   "execution_count": 4,
   "metadata": {},
   "outputs": [],
   "source": [
    "def possible_actions(state: State):\n",
    "    return (l for l in all_lists if not state.covers(l))"
   ]
  },
  {
   "cell_type": "code",
   "execution_count": 5,
   "metadata": {},
   "outputs": [],
   "source": [
    "def result(state, action):\n",
    "    current_list = state.copy_data()\n",
    "    current_list.append(action)\n",
    "    return State(current_list)"
   ]
  },
  {
   "cell_type": "code",
   "execution_count": 6,
   "metadata": {},
   "outputs": [],
   "source": [
    "def problem(N, seed=None):\n",
    "    random.seed(seed)\n",
    "    return [\n",
    "        list(set(random.randint(0, N - 1) for n in range(random.randint(N // 5, N // 2))))\n",
    "        for n in range(random.randint(N, N * 5))\n",
    "    ]"
   ]
  },
  {
   "cell_type": "markdown",
   "metadata": {},
   "source": [
    "## Generalized search algorithm - find minimum (reviewers ignore this)"
   ]
  },
  {
   "cell_type": "code",
   "execution_count": 8,
   "metadata": {},
   "outputs": [],
   "source": [
    "def search_min(\n",
    "    initial_state: State,\n",
    "    goal_test: Callable,\n",
    "    parent_state: dict,\n",
    "    state_cost: dict,\n",
    "    priority_function: Callable,\n",
    "    unit_cost: Callable,\n",
    "):\n",
    "    frontier = PriorityQueue()\n",
    "    parent_state.clear()\n",
    "    state_cost.clear()\n",
    "\n",
    "    state = initial_state\n",
    "    parent_state[state] = None\n",
    "    state_cost[state] = 0\n",
    "\n",
    "    min_cost = inf\n",
    "    min_state = None\n",
    "\n",
    "    i = 0\n",
    "    n_frontier = 0\n",
    "    \n",
    "    while state is not None:\n",
    "        logging.debug(f'i = {i}')\n",
    "        logging.debug(f'Current state -> {state.data}')\n",
    "\n",
    "        if goal_test(state):\n",
    "            logging.debug(f'Found a solution: {state.data}')\n",
    "            if state_cost[state] < min_cost:\n",
    "                logging.debug(f'Updating min cost -> {state_cost[state]}')\n",
    "                min_cost = state_cost[state]\n",
    "                min_state = state\n",
    "                logging.info(f'New best solution: w = {min_cost} steps = {len(state.data)} (visited {i} nodes)')\n",
    "        else:\n",
    "            for a in possible_actions(state):\n",
    "                new_state = result(state, a)\n",
    "                cost = unit_cost(a)\n",
    "                if new_state not in state_cost and new_state not in frontier:\n",
    "                    parent_state[new_state] = state\n",
    "                    state_cost[new_state] = state_cost[state] + cost\n",
    "                    frontier.push(new_state, p=priority_function(new_state))\n",
    "                    n_frontier += 1\n",
    "                    logging.debug(f\"Added new node ({n_frontier}) to frontier (cost={state_cost[new_state]}) -> {new_state.data}\")\n",
    "\n",
    "        if frontier:\n",
    "            state = frontier.pop()\n",
    "        else:\n",
    "            state = None\n",
    "        \n",
    "        i += 1\n",
    "\n",
    "    logging.debug(f'Total nodes in frontier: {n_frontier}')\n",
    "\n",
    "    path = list()\n",
    "    s = min_state\n",
    "    while s:\n",
    "        path.append(s.copy_data())\n",
    "        s = parent_state[s]\n",
    "\n",
    "    logging.info(f'Done in {i} iterations of the main loop')\n",
    "\n",
    "    logging.debug('Min path followed:')\n",
    "    logging.debug(list(enumerate(reversed(path))))\n",
    "\n",
    "    return min_state"
   ]
  },
  {
   "cell_type": "markdown",
   "metadata": {},
   "source": [
    "## Generalized search algorithm for finding the first solution"
   ]
  },
  {
   "cell_type": "code",
   "execution_count": 7,
   "metadata": {},
   "outputs": [],
   "source": [
    "def search(\n",
    "    initial_state: State,\n",
    "    goal_test: Callable,\n",
    "    parent_state: dict,\n",
    "    state_cost: dict,\n",
    "    priority_function: Callable,\n",
    "    unit_cost: Callable,\n",
    "):\n",
    "    frontier = PriorityQueue()\n",
    "    parent_state.clear()\n",
    "    state_cost.clear()\n",
    "\n",
    "    state = initial_state\n",
    "    parent_state[state] = None\n",
    "    state_cost[state] = 0\n",
    "\n",
    "    i = 0\n",
    "    n_frontier = 0\n",
    "    \n",
    "    while state is not None and not goal_test(state):\n",
    "        logging.debug(f'i = {i}')\n",
    "        logging.debug(f'Current state -> {state.data}')\n",
    "        for a in possible_actions(state):\n",
    "            new_state = result(state, a)\n",
    "            cost = unit_cost(a)\n",
    "            if new_state not in state_cost and new_state not in frontier:\n",
    "                parent_state[new_state] = state\n",
    "                state_cost[new_state] = state_cost[state] + cost\n",
    "                frontier.push(new_state, p=priority_function(new_state))\n",
    "                n_frontier += 1\n",
    "                logging.debug(f\"Added new node ({n_frontier}) to frontier (cost={state_cost[new_state]}) -> {new_state.data}\")\n",
    "\n",
    "        if frontier:\n",
    "            state = frontier.pop()\n",
    "        else:\n",
    "            state = None\n",
    "        \n",
    "        i += 1\n",
    "\n",
    "    logging.debug(f'Total nodes in frontier: {n_frontier}')\n",
    "\n",
    "    path = list()\n",
    "    s = state\n",
    "    while s:\n",
    "        path.append(s.copy_data())\n",
    "        s = parent_state[s]\n",
    "    \n",
    "    logging.info(f'Visited {i:,} nodes')\n",
    "\n",
    "    logging.debug('Path followed:')\n",
    "    logging.debug(list(enumerate(reversed(path))))\n",
    "\n",
    "    return state"
   ]
  },
  {
   "cell_type": "markdown",
   "metadata": {},
   "source": [
    "## Breadth-First"
   ]
  },
  {
   "cell_type": "code",
   "execution_count": 22,
   "metadata": {},
   "outputs": [
    {
     "name": "stderr",
     "output_type": "stream",
     "text": [
      "N = 5\n",
      "Visited 48 nodes\n",
      "Found solution for N=5: w=6 (steps=3) (bloat=20%)\n",
      "N = 10\n",
      "Visited 1,001 nodes\n",
      "Found solution for N=10: w=11 (steps=3) (bloat=10%)\n",
      "N = 20\n",
      "Visited 6,587 nodes\n",
      "Found solution for N=20: w=29 (steps=4) (bloat=45%)\n"
     ]
    }
   ],
   "source": [
    "logging.getLogger().setLevel(logging.INFO)\n",
    "\n",
    "for N in [5, 10, 20]:\n",
    "    logging.info(f'N = {N}')\n",
    "    goal = set(range(N))\n",
    "    initial_state = State(list())\n",
    "\n",
    "    all_lists = problem(N, seed=42)\n",
    "\n",
    "    all_lists = [list(t) for t in set(tuple(_) for _ in all_lists)] # Remove duplicates\n",
    "\n",
    "    parent_state = dict()\n",
    "    state_cost = dict()\n",
    "\n",
    "    solution = search(\n",
    "        initial_state,\n",
    "        goal_test=goal_test,\n",
    "        parent_state=parent_state,\n",
    "        state_cost=state_cost,\n",
    "        priority_function=lambda s: len(state_cost),\n",
    "        unit_cost=lambda a: len(a),\n",
    "    )\n",
    "\n",
    "    logging.info(\n",
    "        f\"Found solution for N={N}: w={sum(len(_) for _ in solution.data)} (steps={len(solution.data)}) (bloat={(sum(len(_) for _ in solution.data)-N)/N*100:.0f}%)\"\n",
    "    )"
   ]
  },
  {
   "cell_type": "markdown",
   "metadata": {},
   "source": [
    "## Depth-First"
   ]
  },
  {
   "cell_type": "code",
   "execution_count": 23,
   "metadata": {},
   "outputs": [
    {
     "name": "stderr",
     "output_type": "stream",
     "text": [
      "N = 5\n",
      "Visited 4 nodes\n",
      "Found solution for N=5: w=6 (steps=4) (bloat=20%)\n",
      "N = 10\n",
      "Visited 6 nodes\n",
      "Found solution for N=10: w=16 (steps=6) (bloat=60%)\n",
      "N = 20\n",
      "Visited 8 nodes\n",
      "Found solution for N=20: w=53 (steps=8) (bloat=165%)\n",
      "N = 100\n",
      "Visited 11 nodes\n",
      "Found solution for N=100: w=339 (steps=11) (bloat=239%)\n",
      "N = 500\n",
      "Visited 18 nodes\n",
      "Found solution for N=500: w=2679 (steps=18) (bloat=436%)\n",
      "N = 1000\n",
      "Visited 16 nodes\n",
      "Found solution for N=1000: w=4880 (steps=16) (bloat=388%)\n"
     ]
    }
   ],
   "source": [
    "logging.getLogger().setLevel(logging.INFO)\n",
    "\n",
    "for N in [5, 10, 20, 100, 500, 1000]:\n",
    "    logging.info(f'N = {N}')\n",
    "    goal = set(range(N))\n",
    "    initial_state = State(list())\n",
    "\n",
    "    all_lists = problem(N, seed=42)\n",
    "\n",
    "    all_lists = [list(t) for t in set(tuple(_) for _ in all_lists)] # Remove duplicates\n",
    "\n",
    "    parent_state = dict()\n",
    "    state_cost = dict()\n",
    "\n",
    "    solution = search(\n",
    "        initial_state,\n",
    "        goal_test=goal_test,\n",
    "        parent_state=parent_state,\n",
    "        state_cost=state_cost,\n",
    "        priority_function=lambda s: -len(state_cost),\n",
    "        unit_cost=lambda a: len(a),\n",
    "    )\n",
    "\n",
    "    logging.info(\n",
    "        f\"Found solution for N={N}: w={sum(len(_) for _ in solution.data)} (steps={len(solution.data)}) (bloat={(sum(len(_) for _ in solution.data)-N)/N*100:.0f}%)\"\n",
    "    )"
   ]
  },
  {
   "cell_type": "markdown",
   "metadata": {},
   "source": [
    "## A*"
   ]
  },
  {
   "cell_type": "code",
   "execution_count": 8,
   "metadata": {},
   "outputs": [],
   "source": [
    "def h1(state: State):\n",
    "    return len(list(chain(*state.data)))\n",
    "\n",
    "def h2(state: State):\n",
    "    c = Counter(list(chain(*state.data)))\n",
    "    return c.total() - len(list(c))"
   ]
  },
  {
   "cell_type": "code",
   "execution_count": 9,
   "metadata": {},
   "outputs": [],
   "source": [
    "def tup_priority_f(new_state: State):\n",
    "    # Only difference with h2 is that this returns a tuple. First element is the same (the total bloat) and second\n",
    "    # is the negative of the number of distinct elements in the new_state\n",
    "\n",
    "    c = Counter(list(chain(*new_state.data)))\n",
    "    return (c.total() - len(list(c)), -sum(c[e] == 1 for e in c))\n"
   ]
  },
  {
   "cell_type": "code",
   "execution_count": 22,
   "metadata": {},
   "outputs": [
    {
     "name": "stderr",
     "output_type": "stream",
     "text": [
      "N = 5\n",
      "Visited 40 nodes\n",
      "Found solution for N=5: w=5 (steps=3) (bloat=0%)\n",
      "N = 10\n",
      "Visited 975 nodes\n",
      "Found solution for N=10: w=10 (steps=5) (bloat=0%)\n",
      "N = 20\n",
      "Visited 3,560 nodes\n",
      "Found solution for N=20: w=23 (steps=5) (bloat=15%)\n"
     ]
    }
   ],
   "source": [
    "logging.getLogger().setLevel(logging.INFO)\n",
    "\n",
    "for N in [5, 10, 20]:\n",
    "# for N in [20]:\n",
    "    logging.info(f'N = {N}')\n",
    "    goal = set(range(N))\n",
    "    initial_state = State(list())\n",
    "\n",
    "    all_lists = problem(N, seed=42)\n",
    "\n",
    "    all_lists = [list(t) for t in set(tuple(_) for _ in all_lists)] # Remove duplicates\n",
    "\n",
    "    parent_state = dict()\n",
    "    state_cost = dict()\n",
    "\n",
    "    solution = search(\n",
    "        initial_state,\n",
    "        goal_test=goal_test,\n",
    "        parent_state=parent_state,\n",
    "        state_cost=state_cost,\n",
    "        priority_function=h2,\n",
    "        unit_cost=lambda a: len(a),\n",
    "    )\n",
    "\n",
    "    logging.info(\n",
    "        f\"Found solution for N={N}: w={sum(len(_) for _ in solution.data)} (steps={len(solution.data)}) (bloat={(sum(len(_) for _ in solution.data)-N)/N*100:.0f}%)\"\n",
    "    )"
   ]
  },
  {
   "cell_type": "code",
   "execution_count": null,
   "metadata": {},
   "outputs": [],
   "source": []
  }
 ],
 "metadata": {
  "kernelspec": {
   "display_name": "Python 3.10.8 64-bit ('3.10.8')",
   "language": "python",
   "name": "python3"
  },
  "language_info": {
   "codemirror_mode": {
    "name": "ipython",
    "version": 3
   },
   "file_extension": ".py",
   "mimetype": "text/x-python",
   "name": "python",
   "nbconvert_exporter": "python",
   "pygments_lexer": "ipython3",
   "version": "3.10.8"
  },
  "orig_nbformat": 4,
  "vscode": {
   "interpreter": {
    "hash": "da0b4c3abd9acf605a09f91e528c5892df41e119ba03b8286d87d6864e0d6f95"
   }
  }
 },
 "nbformat": 4,
 "nbformat_minor": 2
}
