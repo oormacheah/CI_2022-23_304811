{
 "cells": [
  {
   "cell_type": "code",
   "execution_count": 1,
   "metadata": {},
   "outputs": [],
   "source": [
    "import logging\n",
    "import numpy as np\n",
    "import random\n",
    "from math import inf\n",
    "from itertools import chain\n",
    "from typing import Callable\n",
    "from gx_utils import *\n",
    "\n",
    "logging.basicConfig(format=\"%(message)s\", level=logging.INFO)"
   ]
  },
  {
   "cell_type": "markdown",
   "metadata": {},
   "source": [
    "Graph search for the Set Covering problem"
   ]
  },
  {
   "cell_type": "code",
   "execution_count": 2,
   "metadata": {},
   "outputs": [],
   "source": [
    "class State:\n",
    "    def __init__(self, data: list):\n",
    "        self._list = sorted(data.copy())\n",
    "        self.set_covered = set(chain(*self._list))\n",
    "\n",
    "    def __hash__(self):\n",
    "        return hash(tuple(chain(*self._list)))\n",
    "\n",
    "    def __eq__(self, other):\n",
    "        return tuple(self.set_covered) == tuple(other.set_covered)\n",
    "\n",
    "    def __contains__(self, other):\n",
    "        return set(other) in self.set_covered\n",
    "\n",
    "    def __le__(self, other):\n",
    "        return self.set_covered <= other.set_covered\n",
    "\n",
    "    def __lt__(self, other):\n",
    "        return self.set_covered < other.set_covered\n",
    "\n",
    "    def __str__(self):\n",
    "        return str(chain(*self._list))\n",
    "\n",
    "    def __repr__(self):\n",
    "        return repr(self._list)\n",
    "\n",
    "    def covers(self, other: list):\n",
    "        return set(other) <= self.set_covered\n",
    "\n",
    "    @property\n",
    "    def data(self):\n",
    "        return self._list\n",
    "\n",
    "    def copy_data(self):\n",
    "        return self._list.copy()"
   ]
  },
  {
   "cell_type": "code",
   "execution_count": 3,
   "metadata": {},
   "outputs": [],
   "source": [
    "def goal_test(state):\n",
    "    return state.set_covered == goal"
   ]
  },
  {
   "cell_type": "code",
   "execution_count": 4,
   "metadata": {},
   "outputs": [],
   "source": [
    "def possible_actions(state: State):\n",
    "    return (l for l in all_lists if not state.covers(l))"
   ]
  },
  {
   "cell_type": "code",
   "execution_count": 5,
   "metadata": {},
   "outputs": [],
   "source": [
    "def result(state, action):\n",
    "    current_list = state.copy_data()\n",
    "    current_list.append(action)\n",
    "    return State(current_list)"
   ]
  },
  {
   "cell_type": "code",
   "execution_count": 6,
   "metadata": {},
   "outputs": [],
   "source": [
    "def problem(N, seed=None):\n",
    "    random.seed(seed)\n",
    "    return [\n",
    "        list(set(random.randint(0, N - 1) for n in range(random.randint(N // 5, N // 2))))\n",
    "        for n in range(random.randint(N, N * 5))\n",
    "    ]"
   ]
  },
  {
   "cell_type": "markdown",
   "metadata": {},
   "source": [
    "Generalized search algorithm - find minimum (brute force) "
   ]
  },
  {
   "cell_type": "code",
   "execution_count": 7,
   "metadata": {},
   "outputs": [],
   "source": [
    "def search_min(\n",
    "    initial_state: State,\n",
    "    goal_test: Callable,\n",
    "    parent_state: dict,\n",
    "    state_cost: dict,\n",
    "    priority_function: Callable,\n",
    "    unit_cost: Callable,\n",
    "):\n",
    "    frontier = PriorityQueue()\n",
    "    parent_state.clear()\n",
    "    state_cost.clear()\n",
    "\n",
    "    state = initial_state\n",
    "    parent_state[state] = None\n",
    "    state_cost[state] = 0\n",
    "\n",
    "    min_cost = inf\n",
    "    min_state = None\n",
    "\n",
    "    i = 0\n",
    "    n_frontier = 0\n",
    "    \n",
    "    while state is not None:\n",
    "        logging.debug(f'i = {i}')\n",
    "        logging.debug(f'Current state -> {state.data}')\n",
    "\n",
    "        if goal_test(state):\n",
    "            logging.debug(f'Found a solution: {state.data}')\n",
    "            if state_cost[state] < min_cost:\n",
    "                logging.debug(f'Updating min cost -> {state_cost[state]}')\n",
    "                min_cost = state_cost[state]\n",
    "                min_state = state\n",
    "                logging.info(f'New best solution: w = {min_cost} steps = {len(state.data)} (visited {i} nodes)')\n",
    "        else:\n",
    "            for a in possible_actions(state):\n",
    "                new_state = result(state, a)\n",
    "                cost = unit_cost(a)\n",
    "                if new_state not in state_cost and new_state not in frontier:\n",
    "                    parent_state[new_state] = state\n",
    "                    state_cost[new_state] = state_cost[state] + cost\n",
    "                    frontier.push(new_state, p=priority_function(new_state))\n",
    "                    n_frontier += 1\n",
    "                    logging.debug(f\"Added new node ({n_frontier}) to frontier (cost={state_cost[new_state]}) -> {new_state.data}\")\n",
    "\n",
    "        if frontier:\n",
    "            state = frontier.pop()\n",
    "        else:\n",
    "            state = None\n",
    "        \n",
    "        i += 1\n",
    "\n",
    "    logging.debug(f'Total nodes in frontier: {n_frontier}')\n",
    "\n",
    "    path = list()\n",
    "    s = min_state\n",
    "    while s:\n",
    "        path.append(s.copy_data())\n",
    "        s = parent_state[s]\n",
    "\n",
    "    logging.info(f'Done in {i} iterations of the main loop')\n",
    "\n",
    "    logging.debug('Min path followed:')\n",
    "    logging.debug(list(enumerate(reversed(path))))\n",
    "\n",
    "    return min_state"
   ]
  },
  {
   "cell_type": "markdown",
   "metadata": {},
   "source": [
    "Generalized search algorithm for finding the first solution"
   ]
  },
  {
   "cell_type": "code",
   "execution_count": 8,
   "metadata": {},
   "outputs": [],
   "source": [
    "def search(\n",
    "    initial_state: State,\n",
    "    goal_test: Callable,\n",
    "    parent_state: dict,\n",
    "    state_cost: dict,\n",
    "    priority_function: Callable,\n",
    "    unit_cost: Callable,\n",
    "):\n",
    "    frontier = PriorityQueue()\n",
    "    parent_state.clear()\n",
    "    state_cost.clear()\n",
    "\n",
    "    state = initial_state\n",
    "    parent_state[state] = None\n",
    "    state_cost[state] = 0\n",
    "\n",
    "    i = 0\n",
    "    n_frontier = 0\n",
    "    \n",
    "    while state is not None and not goal_test(state):\n",
    "        logging.debug(f'i = {i}')\n",
    "        logging.debug(f'Current state -> {state.data}')\n",
    "        for a in possible_actions(state):\n",
    "            new_state = result(state, a)\n",
    "            cost = unit_cost(a)\n",
    "            if new_state not in state_cost and new_state not in frontier:\n",
    "                parent_state[new_state] = state\n",
    "                state_cost[new_state] = state_cost[state] + cost\n",
    "                frontier.push(new_state, p=priority_function(new_state))\n",
    "                n_frontier += 1\n",
    "                logging.debug(f\"Added new node ({n_frontier}) to frontier (cost={state_cost[new_state]}) -> {new_state.data}\")\n",
    "\n",
    "        if frontier:\n",
    "            state = frontier.pop()\n",
    "        else:\n",
    "            state = None\n",
    "        \n",
    "        i += 1\n",
    "\n",
    "    logging.debug(f'Total nodes in frontier: {n_frontier}')\n",
    "\n",
    "    path = list()\n",
    "    s = state\n",
    "    while s:\n",
    "        path.append(s.copy_data())\n",
    "        s = parent_state[s]\n",
    "    \n",
    "    logging.info(f'Visited {i:,} nodes')\n",
    "\n",
    "    logging.debug('Path followed:')\n",
    "    logging.debug(list(enumerate(reversed(path))))\n",
    "\n",
    "    return state"
   ]
  },
  {
   "cell_type": "markdown",
   "metadata": {},
   "source": [
    "Breadth-First"
   ]
  },
  {
   "cell_type": "code",
   "execution_count": 9,
   "metadata": {},
   "outputs": [
    {
     "name": "stderr",
     "output_type": "stream",
     "text": [
      "N = 5\n",
      "New best solution: w = 6 steps = 3 (visited 48 nodes)\n",
      "New best solution: w = 5 steps = 3 (visited 49 nodes)\n",
      "Done in 351 iterations of the main loop\n",
      "Found solution for N=5: w=5 (steps = 3) (bloat=0%)\n",
      "N = 10\n",
      "New best solution: w = 11 steps = 3 (visited 1001 nodes)\n",
      "New best solution: w = 10 steps = 3 (visited 2673 nodes)\n"
     ]
    },
    {
     "ename": "KeyboardInterrupt",
     "evalue": "",
     "output_type": "error",
     "traceback": [
      "\u001b[0;31m---------------------------------------------------------------------------\u001b[0m",
      "\u001b[0;31mKeyboardInterrupt\u001b[0m                         Traceback (most recent call last)",
      "Cell \u001b[0;32mIn [9], line 15\u001b[0m\n\u001b[1;32m     12\u001b[0m parent_state \u001b[39m=\u001b[39m \u001b[39mdict\u001b[39m()\n\u001b[1;32m     13\u001b[0m state_cost \u001b[39m=\u001b[39m \u001b[39mdict\u001b[39m()\n\u001b[0;32m---> 15\u001b[0m solution \u001b[39m=\u001b[39m search_min(\n\u001b[1;32m     16\u001b[0m     initial_state,\n\u001b[1;32m     17\u001b[0m     goal_test\u001b[39m=\u001b[39;49mgoal_test,\n\u001b[1;32m     18\u001b[0m     parent_state\u001b[39m=\u001b[39;49mparent_state,\n\u001b[1;32m     19\u001b[0m     state_cost\u001b[39m=\u001b[39;49mstate_cost,\n\u001b[1;32m     20\u001b[0m     priority_function\u001b[39m=\u001b[39;49m\u001b[39mlambda\u001b[39;49;00m s: \u001b[39mlen\u001b[39;49m(state_cost),\n\u001b[1;32m     21\u001b[0m     unit_cost\u001b[39m=\u001b[39;49m\u001b[39mlambda\u001b[39;49;00m a: \u001b[39mlen\u001b[39;49m(a),\n\u001b[1;32m     22\u001b[0m )\n\u001b[1;32m     24\u001b[0m logging\u001b[39m.\u001b[39minfo(\n\u001b[1;32m     25\u001b[0m     \u001b[39mf\u001b[39m\u001b[39m\"\u001b[39m\u001b[39mFound solution for N=\u001b[39m\u001b[39m{\u001b[39;00mN\u001b[39m}\u001b[39;00m\u001b[39m: w=\u001b[39m\u001b[39m{\u001b[39;00m\u001b[39msum\u001b[39m(\u001b[39mlen\u001b[39m(_) \u001b[39mfor\u001b[39;00m _ \u001b[39min\u001b[39;00m solution\u001b[39m.\u001b[39mdata)\u001b[39m}\u001b[39;00m\u001b[39m (steps = \u001b[39m\u001b[39m{\u001b[39;00m\u001b[39mlen\u001b[39m(solution\u001b[39m.\u001b[39mdata)\u001b[39m}\u001b[39;00m\u001b[39m) (bloat=\u001b[39m\u001b[39m{\u001b[39;00m(\u001b[39msum\u001b[39m(\u001b[39mlen\u001b[39m(_) \u001b[39mfor\u001b[39;00m _ \u001b[39min\u001b[39;00m solution\u001b[39m.\u001b[39mdata)\u001b[39m-\u001b[39mN)\u001b[39m/\u001b[39mN\u001b[39m*\u001b[39m\u001b[39m100\u001b[39m\u001b[39m:\u001b[39;00m\u001b[39m.0f\u001b[39m\u001b[39m}\u001b[39;00m\u001b[39m%)\u001b[39m\u001b[39m\"\u001b[39m\n\u001b[1;32m     26\u001b[0m )\n",
      "Cell \u001b[0;32mIn [7], line 36\u001b[0m, in \u001b[0;36msearch_min\u001b[0;34m(initial_state, goal_test, parent_state, state_cost, priority_function, unit_cost)\u001b[0m\n\u001b[1;32m     34\u001b[0m \u001b[39melse\u001b[39;00m:\n\u001b[1;32m     35\u001b[0m     \u001b[39mfor\u001b[39;00m a \u001b[39min\u001b[39;00m possible_actions(state):\n\u001b[0;32m---> 36\u001b[0m         new_state \u001b[39m=\u001b[39m result(state, a)\n\u001b[1;32m     37\u001b[0m         cost \u001b[39m=\u001b[39m unit_cost(a)\n\u001b[1;32m     38\u001b[0m         \u001b[39mif\u001b[39;00m new_state \u001b[39mnot\u001b[39;00m \u001b[39min\u001b[39;00m state_cost \u001b[39mand\u001b[39;00m new_state \u001b[39mnot\u001b[39;00m \u001b[39min\u001b[39;00m frontier:\n",
      "Cell \u001b[0;32mIn [5], line 1\u001b[0m, in \u001b[0;36mresult\u001b[0;34m(state, action)\u001b[0m\n\u001b[0;32m----> 1\u001b[0m \u001b[39mdef\u001b[39;00m \u001b[39mresult\u001b[39m(state, action):\n\u001b[1;32m      2\u001b[0m     current_list \u001b[39m=\u001b[39m state\u001b[39m.\u001b[39mcopy_data()\n\u001b[1;32m      3\u001b[0m     current_list\u001b[39m.\u001b[39mappend(action)\n",
      "\u001b[0;31mKeyboardInterrupt\u001b[0m: "
     ]
    }
   ],
   "source": [
    "logging.getLogger().setLevel(logging.INFO)\n",
    "\n",
    "for N in [5, 10, 20, 100, 500, 1000]:\n",
    "    logging.info(f'N = {N}')\n",
    "    goal = set(range(N))\n",
    "    initial_state = State(list())\n",
    "\n",
    "    all_lists = problem(N, seed=42)\n",
    "\n",
    "    all_lists = [list(t) for t in set(tuple(_) for _ in all_lists)] # Remove duplicates\n",
    "\n",
    "    parent_state = dict()\n",
    "    state_cost = dict()\n",
    "\n",
    "    solution = search_min(\n",
    "        initial_state,\n",
    "        goal_test=goal_test,\n",
    "        parent_state=parent_state,\n",
    "        state_cost=state_cost,\n",
    "        priority_function=lambda s: len(state_cost),\n",
    "        unit_cost=lambda a: len(a),\n",
    "    )\n",
    "\n",
    "    logging.info(\n",
    "        f\"Found solution for N={N}: w={sum(len(_) for _ in solution.data)} (steps={len(solution.data)}) (bloat={(sum(len(_) for _ in solution.data)-N)/N*100:.0f}%)\"\n",
    "    )"
   ]
  },
  {
   "cell_type": "markdown",
   "metadata": {},
   "source": [
    "Depth-First"
   ]
  },
  {
   "cell_type": "code",
   "execution_count": 10,
   "metadata": {},
   "outputs": [
    {
     "name": "stderr",
     "output_type": "stream",
     "text": [
      "N = 5\n",
      "Visited 4 nodes\n",
      "Found solution for N=5: w=6 (steps = 4) (bloat=20%)\n",
      "N = 10\n",
      "Visited 6 nodes\n",
      "Found solution for N=10: w=16 (steps = 6) (bloat=60%)\n",
      "N = 20\n",
      "Visited 8 nodes\n",
      "Found solution for N=20: w=53 (steps = 8) (bloat=165%)\n",
      "N = 100\n",
      "Visited 11 nodes\n",
      "Found solution for N=100: w=339 (steps = 11) (bloat=239%)\n",
      "N = 500\n"
     ]
    },
    {
     "ename": "KeyboardInterrupt",
     "evalue": "",
     "output_type": "error",
     "traceback": [
      "\u001b[0;31m---------------------------------------------------------------------------\u001b[0m",
      "\u001b[0;31mKeyboardInterrupt\u001b[0m                         Traceback (most recent call last)",
      "Cell \u001b[0;32mIn [10], line 15\u001b[0m\n\u001b[1;32m     12\u001b[0m parent_state \u001b[39m=\u001b[39m \u001b[39mdict\u001b[39m()\n\u001b[1;32m     13\u001b[0m state_cost \u001b[39m=\u001b[39m \u001b[39mdict\u001b[39m()\n\u001b[0;32m---> 15\u001b[0m solution \u001b[39m=\u001b[39m search(\n\u001b[1;32m     16\u001b[0m     initial_state,\n\u001b[1;32m     17\u001b[0m     goal_test\u001b[39m=\u001b[39;49mgoal_test,\n\u001b[1;32m     18\u001b[0m     parent_state\u001b[39m=\u001b[39;49mparent_state,\n\u001b[1;32m     19\u001b[0m     state_cost\u001b[39m=\u001b[39;49mstate_cost,\n\u001b[1;32m     20\u001b[0m     priority_function\u001b[39m=\u001b[39;49m\u001b[39mlambda\u001b[39;49;00m s: \u001b[39m-\u001b[39;49m\u001b[39mlen\u001b[39;49m(state_cost),\n\u001b[1;32m     21\u001b[0m     unit_cost\u001b[39m=\u001b[39;49m\u001b[39mlambda\u001b[39;49;00m a: \u001b[39mlen\u001b[39;49m(a),\n\u001b[1;32m     22\u001b[0m )\n\u001b[1;32m     24\u001b[0m logging\u001b[39m.\u001b[39minfo(\n\u001b[1;32m     25\u001b[0m     \u001b[39mf\u001b[39m\u001b[39m\"\u001b[39m\u001b[39mFound solution for N=\u001b[39m\u001b[39m{\u001b[39;00mN\u001b[39m}\u001b[39;00m\u001b[39m: w=\u001b[39m\u001b[39m{\u001b[39;00m\u001b[39msum\u001b[39m(\u001b[39mlen\u001b[39m(_) \u001b[39mfor\u001b[39;00m _ \u001b[39min\u001b[39;00m solution\u001b[39m.\u001b[39mdata)\u001b[39m}\u001b[39;00m\u001b[39m (steps = \u001b[39m\u001b[39m{\u001b[39;00m\u001b[39mlen\u001b[39m(solution\u001b[39m.\u001b[39mdata)\u001b[39m}\u001b[39;00m\u001b[39m) (bloat=\u001b[39m\u001b[39m{\u001b[39;00m(\u001b[39msum\u001b[39m(\u001b[39mlen\u001b[39m(_) \u001b[39mfor\u001b[39;00m _ \u001b[39min\u001b[39;00m solution\u001b[39m.\u001b[39mdata)\u001b[39m-\u001b[39mN)\u001b[39m/\u001b[39mN\u001b[39m*\u001b[39m\u001b[39m100\u001b[39m\u001b[39m:\u001b[39;00m\u001b[39m.0f\u001b[39m\u001b[39m}\u001b[39;00m\u001b[39m%)\u001b[39m\u001b[39m\"\u001b[39m\n\u001b[1;32m     26\u001b[0m )\n",
      "Cell \u001b[0;32mIn [8], line 26\u001b[0m, in \u001b[0;36msearch\u001b[0;34m(initial_state, goal_test, parent_state, state_cost, priority_function, unit_cost)\u001b[0m\n\u001b[1;32m     24\u001b[0m new_state \u001b[39m=\u001b[39m result(state, a)\n\u001b[1;32m     25\u001b[0m cost \u001b[39m=\u001b[39m unit_cost(a)\n\u001b[0;32m---> 26\u001b[0m \u001b[39mif\u001b[39;00m new_state \u001b[39mnot\u001b[39;00m \u001b[39min\u001b[39;00m state_cost \u001b[39mand\u001b[39;00m new_state \u001b[39mnot\u001b[39;49;00m \u001b[39min\u001b[39;49;00m frontier:\n\u001b[1;32m     27\u001b[0m     parent_state[new_state] \u001b[39m=\u001b[39m state\n\u001b[1;32m     28\u001b[0m     state_cost[new_state] \u001b[39m=\u001b[39m state_cost[state] \u001b[39m+\u001b[39m cost\n",
      "File \u001b[0;32m~/Desktop/Uni shit/Computational Intelligence/lab1/gx_utils.py:20\u001b[0m, in \u001b[0;36mPriorityQueue.__contains__\u001b[0;34m(self, item)\u001b[0m\n\u001b[1;32m     19\u001b[0m \u001b[39mdef\u001b[39;00m \u001b[39m__contains__\u001b[39m(\u001b[39mself\u001b[39m, item):\n\u001b[0;32m---> 20\u001b[0m     \u001b[39mreturn\u001b[39;00m item \u001b[39min\u001b[39;49;00m \u001b[39mself\u001b[39;49m\u001b[39m.\u001b[39;49m_data_set\n",
      "Cell \u001b[0;32mIn [2], line 7\u001b[0m, in \u001b[0;36mState.__hash__\u001b[0;34m(self)\u001b[0m\n\u001b[1;32m      6\u001b[0m \u001b[39mdef\u001b[39;00m \u001b[39m__hash__\u001b[39m(\u001b[39mself\u001b[39m):\n\u001b[0;32m----> 7\u001b[0m     \u001b[39mreturn\u001b[39;00m \u001b[39mhash\u001b[39m(\u001b[39mtuple\u001b[39;49m(chain(\u001b[39m*\u001b[39;49m\u001b[39mself\u001b[39;49m\u001b[39m.\u001b[39;49m_list)))\n",
      "\u001b[0;31mKeyboardInterrupt\u001b[0m: "
     ]
    }
   ],
   "source": [
    "logging.getLogger().setLevel(logging.INFO)\n",
    "\n",
    "for N in [5, 10, 20, 100, 500, 1000]:\n",
    "    logging.info(f'N = {N}')\n",
    "    goal = set(range(N))\n",
    "    initial_state = State(list())\n",
    "\n",
    "    all_lists = problem(N, seed=42)\n",
    "\n",
    "    all_lists = [list(t) for t in set(tuple(_) for _ in all_lists)] # Remove duplicates\n",
    "\n",
    "    parent_state = dict()\n",
    "    state_cost = dict()\n",
    "\n",
    "    solution = search(\n",
    "        initial_state,\n",
    "        goal_test=goal_test,\n",
    "        parent_state=parent_state,\n",
    "        state_cost=state_cost,\n",
    "        priority_function=lambda s: -len(state_cost),\n",
    "        unit_cost=lambda a: len(a),\n",
    "    )\n",
    "\n",
    "    logging.info(\n",
    "        f\"Found solution for N={N}: w={sum(len(_) for _ in solution.data)} (steps={len(solution.data)}) (bloat={(sum(len(_) for _ in solution.data)-N)/N*100:.0f}%)\"\n",
    "    )"
   ]
  },
  {
   "cell_type": "markdown",
   "metadata": {},
   "source": [
    "A*"
   ]
  },
  {
   "cell_type": "code",
   "execution_count": 11,
   "metadata": {},
   "outputs": [],
   "source": [
    "def h1(state: State):\n",
    "    return len(list(chain(*state.data)))\n",
    "\n",
    "def h2(state: State):\n",
    "    c = Counter(list(chain(*state.data)))\n",
    "    return c.total() - len(list(c))"
   ]
  },
  {
   "cell_type": "code",
   "execution_count": 12,
   "metadata": {},
   "outputs": [
    {
     "name": "stderr",
     "output_type": "stream",
     "text": [
      "N = 5\n",
      "Visited 79 nodes\n",
      "Found solution for N=5: w=5 (steps = 3) (bloat=0%)\n",
      "N = 10\n",
      "Visited 8,009 nodes\n",
      "Found solution for N=10: w=10 (steps = 4) (bloat=0%)\n",
      "N = 20\n",
      "Visited 19,009 nodes\n",
      "Found solution for N=20: w=23 (steps = 5) (bloat=15%)\n",
      "N = 100\n"
     ]
    }
   ],
   "source": [
    "logging.getLogger().setLevel(logging.INFO)\n",
    "\n",
    "for N in [5, 10, 20, 100, 500, 1000]:\n",
    "# for N in [20]:\n",
    "    logging.info(f'N = {N}')\n",
    "    goal = set(range(N))\n",
    "    initial_state = State(list())\n",
    "\n",
    "    all_lists = problem(N, seed=42)\n",
    "\n",
    "    all_lists = [list(t) for t in set(tuple(_) for _ in all_lists)] # Remove duplicates\n",
    "\n",
    "    parent_state = dict()\n",
    "    state_cost = dict()\n",
    "\n",
    "    solution = search(\n",
    "        initial_state,\n",
    "        goal_test=goal_test,\n",
    "        parent_state=parent_state,\n",
    "        state_cost=state_cost,\n",
    "        priority_function=lambda a: state_cost[a] + h2(a),\n",
    "        unit_cost=lambda a: len(a),\n",
    "    )\n",
    "\n",
    "    logging.info(\n",
    "        f\"Found solution for N={N}: w={sum(len(_) for _ in solution.data)} (steps={len(solution.data)}) (bloat={(sum(len(_) for _ in solution.data)-N)/N*100:.0f}%)\"\n",
    "    )"
   ]
  },
  {
   "cell_type": "code",
   "execution_count": null,
   "metadata": {},
   "outputs": [],
   "source": []
  }
 ],
 "metadata": {
  "kernelspec": {
   "display_name": "CI_10_8_kernel",
   "language": "python",
   "name": "ci_10_8_kernel"
  },
  "language_info": {
   "codemirror_mode": {
    "name": "ipython",
    "version": 3
   },
   "file_extension": ".py",
   "mimetype": "text/x-python",
   "name": "python",
   "nbconvert_exporter": "python",
   "pygments_lexer": "ipython3",
   "version": "3.10.8"
  },
  "orig_nbformat": 4,
  "vscode": {
   "interpreter": {
    "hash": "da0b4c3abd9acf605a09f91e528c5892df41e119ba03b8286d87d6864e0d6f95"
   }
  }
 },
 "nbformat": 4,
 "nbformat_minor": 2
}
