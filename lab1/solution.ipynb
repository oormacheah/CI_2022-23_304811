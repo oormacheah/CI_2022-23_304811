{
 "cells": [
  {
   "cell_type": "code",
   "execution_count": 1,
   "metadata": {},
   "outputs": [],
   "source": [
    "import logging\n",
    "import numpy as np\n",
    "import random\n",
    "from math import inf\n",
    "from itertools import chain\n",
    "from typing import Callable\n",
    "from gx_utils import *\n",
    "\n",
    "logging.basicConfig(format=\"%(message)s\", level=logging.INFO)"
   ]
  },
  {
   "cell_type": "markdown",
   "metadata": {},
   "source": [
    "Graph search for the Set Covering problem"
   ]
  },
  {
   "cell_type": "code",
   "execution_count": 2,
   "metadata": {},
   "outputs": [],
   "source": [
    "class State:\n",
    "    def __init__(self, data: list):\n",
    "        self._list = sorted(data.copy())\n",
    "        self.set_covered = set(chain(*self._list))\n",
    "\n",
    "    def __hash__(self):\n",
    "        # logging.debug('__hash__')\n",
    "        return hash(bytes(chain(*self._list)))\n",
    "\n",
    "    def __eq__(self, other):\n",
    "        # logging.debug('__eq__')\n",
    "        return bytes(self.set_covered) == bytes(other.set_covered)\n",
    "\n",
    "    def __contains__(self, other):\n",
    "        # logging.debug('__contains__')\n",
    "        return set(other) in self.set_covered\n",
    "\n",
    "    def __le__(self, other):\n",
    "        return self.set_covered <= other._set\n",
    "\n",
    "    def __lt__(self, other):\n",
    "        return self.set_covered < other._set\n",
    "\n",
    "    def __str__(self):\n",
    "        return str(chain(*self._list))\n",
    "\n",
    "    def __repr__(self):\n",
    "        return repr(self._list)\n",
    "\n",
    "    def covers(self, other: list):\n",
    "        return set(other) <= self.set_covered\n",
    "\n",
    "    # def is_alias(self, l, : list):\n",
    "    #     return \n",
    "\n",
    "    @property\n",
    "    def data(self):\n",
    "        return self._list\n",
    "\n",
    "    def copy_data(self):\n",
    "        return self._list.copy()"
   ]
  },
  {
   "cell_type": "code",
   "execution_count": 3,
   "metadata": {},
   "outputs": [],
   "source": [
    "def goal_test(state):\n",
    "    return state.set_covered == goal"
   ]
  },
  {
   "cell_type": "code",
   "execution_count": 4,
   "metadata": {},
   "outputs": [],
   "source": [
    "# def is_valid(list_of_lists: list, l: list):\n",
    "#     return (not set(l) <= set(chain(*list_of_lists))) # If this was just a \"<\", duplicates are allowed\n",
    "\n",
    "def possible_actions(state: State):\n",
    "    return (l for l in all_lists if not state.covers(l))"
   ]
  },
  {
   "cell_type": "code",
   "execution_count": 5,
   "metadata": {},
   "outputs": [],
   "source": [
    "def result(state, action):\n",
    "    current_list = state.copy_data()\n",
    "    current_list.append(action)\n",
    "    return State(current_list)"
   ]
  },
  {
   "cell_type": "code",
   "execution_count": 6,
   "metadata": {},
   "outputs": [],
   "source": [
    "def problem(N, seed=None):\n",
    "    random.seed(seed)\n",
    "    return [\n",
    "        list(set(random.randint(0, N - 1) for n in range(random.randint(N // 5, N // 2))))\n",
    "        for n in range(random.randint(N, N * 5))\n",
    "    ]"
   ]
  },
  {
   "cell_type": "code",
   "execution_count": 7,
   "metadata": {},
   "outputs": [],
   "source": [
    "def search_min(\n",
    "    initial_state: State,\n",
    "    goal_test: Callable,\n",
    "    parent_state: dict,\n",
    "    state_cost: dict,\n",
    "    priority_function: Callable,\n",
    "    unit_cost: Callable,\n",
    "):\n",
    "    frontier = PriorityQueue()\n",
    "    parent_state.clear()\n",
    "    state_cost.clear()\n",
    "\n",
    "    state = initial_state\n",
    "    parent_state[state] = None\n",
    "    state_cost[state] = 0\n",
    "\n",
    "    min_cost = inf\n",
    "    min_state = None\n",
    "\n",
    "    i = 0\n",
    "    n_frontier = 0\n",
    "\n",
    "    # covered = set()\n",
    "\n",
    "    while state is not None:\n",
    "        logging.debug(f'i= {i}')\n",
    "        logging.debug(f'curr. state -> {state.data}')\n",
    "\n",
    "        if goal_test(state):\n",
    "            logging.debug(f'found a solution: {state.data}')\n",
    "            # solutions.append(state)\n",
    "            if state_cost[state] < min_cost:\n",
    "                logging.debug(f'updating min cost -> {state_cost[state]}')\n",
    "                min_cost = state_cost[state]\n",
    "                min_state = state\n",
    "        else:\n",
    "            for a in possible_actions(state):\n",
    "                new_state = result(state, a)\n",
    "                cost = unit_cost(a)\n",
    "                # logging.debug(f'entered actions -> {new_state.data}')\n",
    "                # logging.debug(f'new action covered set: {new_state.set_covered}')\n",
    "                if new_state not in state_cost and new_state not in frontier:\n",
    "                    parent_state[new_state] = state\n",
    "                    state_cost[new_state] = state_cost[state] + cost\n",
    "                    # covered |= new_state.set_covered\n",
    "                    # logging.debug(f'global covered set: {covered}')\n",
    "                    frontier.push(new_state, p=priority_function(new_state))\n",
    "                    n_frontier += 1\n",
    "                    logging.debug(f\"Added new node ({n_frontier}) to frontier (cost={state_cost[new_state]}) -> {new_state.data}\")\n",
    "                elif new_state in frontier and state_cost[new_state] > state_cost[state] + cost:\n",
    "                    old_cost = state_cost[new_state]\n",
    "                    parent_state[new_state] = state\n",
    "                    state_cost[new_state] = state_cost[state] + cost\n",
    "                    logging.debug(f\"Updated node cost in frontier: {old_cost} -> {state_cost[new_state]}\")\n",
    "\n",
    "        if frontier:\n",
    "            state = frontier.pop()\n",
    "        else:\n",
    "            state = None\n",
    "        \n",
    "        i += 1\n",
    "\n",
    "    logging.debug(f'total nodes in frontier: {n_frontier}')\n",
    "\n",
    "    path = list()\n",
    "    s = min_state\n",
    "    while s:\n",
    "        path.append(s.copy_data())\n",
    "        s = parent_state[s]\n",
    "\n",
    "    logging.info(f'done in {i} iterations')\n",
    "    print(list(enumerate(reversed(path))))\n",
    "\n",
    "    return min_state"
   ]
  },
  {
   "cell_type": "markdown",
   "metadata": {},
   "source": [
    "Breadth-First"
   ]
  },
  {
   "cell_type": "code",
   "execution_count": 8,
   "metadata": {},
   "outputs": [
    {
     "name": "stdout",
     "output_type": "stream",
     "text": [
      "50\n"
     ]
    },
    {
     "ename": "KeyboardInterrupt",
     "evalue": "",
     "output_type": "error",
     "traceback": [
      "\u001b[0;31m---------------------------------------------------------------------------\u001b[0m",
      "\u001b[0;31mKeyboardInterrupt\u001b[0m                         Traceback (most recent call last)",
      "Cell \u001b[0;32mIn [8], line 24\u001b[0m\n\u001b[1;32m     21\u001b[0m parent_state \u001b[39m=\u001b[39m \u001b[39mdict\u001b[39m()\n\u001b[1;32m     22\u001b[0m state_cost \u001b[39m=\u001b[39m \u001b[39mdict\u001b[39m()\n\u001b[0;32m---> 24\u001b[0m min_state \u001b[39m=\u001b[39m search_min(\n\u001b[1;32m     25\u001b[0m     initial_state,\n\u001b[1;32m     26\u001b[0m     goal_test\u001b[39m=\u001b[39;49mgoal_test,\n\u001b[1;32m     27\u001b[0m     parent_state\u001b[39m=\u001b[39;49mparent_state,\n\u001b[1;32m     28\u001b[0m     state_cost\u001b[39m=\u001b[39;49mstate_cost,\n\u001b[1;32m     29\u001b[0m     priority_function\u001b[39m=\u001b[39;49m\u001b[39mlambda\u001b[39;49;00m s: \u001b[39mlen\u001b[39;49m(state_cost),\n\u001b[1;32m     30\u001b[0m     unit_cost\u001b[39m=\u001b[39;49m\u001b[39mlambda\u001b[39;49;00m a: \u001b[39mlen\u001b[39;49m(a),\n\u001b[1;32m     31\u001b[0m )\n\u001b[1;32m     33\u001b[0m logging\u001b[39m.\u001b[39minfo(\n\u001b[1;32m     34\u001b[0m     \u001b[39mf\u001b[39m\u001b[39m\"\u001b[39m\u001b[39mFound min solution for N=\u001b[39m\u001b[39m{\u001b[39;00mN\u001b[39m}\u001b[39;00m\u001b[39m: w=\u001b[39m\u001b[39m{\u001b[39;00m\u001b[39msum\u001b[39m(\u001b[39mlen\u001b[39m(_) \u001b[39mfor\u001b[39;00m _ \u001b[39min\u001b[39;00m min_state\u001b[39m.\u001b[39mdata)\u001b[39m}\u001b[39;00m\u001b[39m (bloat=\u001b[39m\u001b[39m{\u001b[39;00m(\u001b[39msum\u001b[39m(\u001b[39mlen\u001b[39m(_) \u001b[39mfor\u001b[39;00m _ \u001b[39min\u001b[39;00m min_state\u001b[39m.\u001b[39mdata)\u001b[39m-\u001b[39mN)\u001b[39m/\u001b[39mN\u001b[39m*\u001b[39m\u001b[39m100\u001b[39m\u001b[39m:\u001b[39;00m\u001b[39m.0f\u001b[39m\u001b[39m}\u001b[39;00m\u001b[39m%)\u001b[39m\u001b[39m\"\u001b[39m\n\u001b[1;32m     35\u001b[0m )\n",
      "Cell \u001b[0;32mIn [7], line 47\u001b[0m, in \u001b[0;36msearch_min\u001b[0;34m(initial_state, goal_test, parent_state, state_cost, priority_function, unit_cost)\u001b[0m\n\u001b[1;32m     44\u001b[0m state_cost[new_state] \u001b[39m=\u001b[39m state_cost[state] \u001b[39m+\u001b[39m cost\n\u001b[1;32m     45\u001b[0m \u001b[39m# covered |= new_state.set_covered\u001b[39;00m\n\u001b[1;32m     46\u001b[0m \u001b[39m# logging.debug(f'global covered set: {covered}')\u001b[39;00m\n\u001b[0;32m---> 47\u001b[0m frontier\u001b[39m.\u001b[39;49mpush(new_state, p\u001b[39m=\u001b[39;49mpriority_function(new_state))\n\u001b[1;32m     48\u001b[0m n_frontier \u001b[39m+\u001b[39m\u001b[39m=\u001b[39m \u001b[39m1\u001b[39m\n\u001b[1;32m     49\u001b[0m logging\u001b[39m.\u001b[39mdebug(\u001b[39mf\u001b[39m\u001b[39m\"\u001b[39m\u001b[39mAdded new node (\u001b[39m\u001b[39m{\u001b[39;00mn_frontier\u001b[39m}\u001b[39;00m\u001b[39m) to frontier (cost=\u001b[39m\u001b[39m{\u001b[39;00mstate_cost[new_state]\u001b[39m}\u001b[39;00m\u001b[39m) -> \u001b[39m\u001b[39m{\u001b[39;00mnew_state\u001b[39m.\u001b[39mdata\u001b[39m}\u001b[39;00m\u001b[39m\"\u001b[39m)\n",
      "File \u001b[0;32m~/Desktop/Uni shit/Computational Intelligence/lab1/gx_utils.py:23\u001b[0m, in \u001b[0;36mPriorityQueue.push\u001b[0;34m(self, item, p)\u001b[0m\n\u001b[1;32m     22\u001b[0m \u001b[39mdef\u001b[39;00m \u001b[39mpush\u001b[39m(\u001b[39mself\u001b[39m, item, p\u001b[39m=\u001b[39m\u001b[39mNone\u001b[39;00m):\n\u001b[0;32m---> 23\u001b[0m     \u001b[39massert\u001b[39;00m item \u001b[39mnot\u001b[39;49;00m \u001b[39min\u001b[39;49;00m \u001b[39mself\u001b[39;49m, \u001b[39mf\u001b[39m\u001b[39m\"\u001b[39m\u001b[39mDuplicated element\u001b[39m\u001b[39m\"\u001b[39m\n\u001b[1;32m     24\u001b[0m     \u001b[39mif\u001b[39;00m p \u001b[39mis\u001b[39;00m \u001b[39mNone\u001b[39;00m:\n\u001b[1;32m     25\u001b[0m         p \u001b[39m=\u001b[39m \u001b[39mlen\u001b[39m(\u001b[39mself\u001b[39m\u001b[39m.\u001b[39m_data_set)\n",
      "\u001b[0;31mKeyboardInterrupt\u001b[0m: "
     ]
    }
   ],
   "source": [
    "logging.getLogger().setLevel(logging.INFO)\n",
    "\n",
    "# for N in [5, 10, 20, 100, 500, 1000]:\n",
    "for N in [10]:\n",
    "    goal = set(range(N))\n",
    "    initial_state = State(list()) # Empty list as initial state\n",
    "\n",
    "    all_lists = problem(N, seed=42)\n",
    "\n",
    "    # # Pre-process (remove duplicates)\n",
    "    # all_lists = set(tuple(l) for l in all_lists)\n",
    "    # all_lists = [list(t) for t in all_lists]\n",
    "    \n",
    "    # all_lists = [[1, 2], [2, 3], [2, 4], [3], [1, 4], [4], [0, 1], [0]]\n",
    "    # all_lists = [[1, 2], [2, 3], [2], [3]]\n",
    "\n",
    "    # solutions = list()\n",
    "\n",
    "    print(len(all_lists))\n",
    "\n",
    "    parent_state = dict()\n",
    "    state_cost = dict()\n",
    "\n",
    "    min_state = search_min(\n",
    "        initial_state,\n",
    "        goal_test=goal_test,\n",
    "        parent_state=parent_state,\n",
    "        state_cost=state_cost,\n",
    "        priority_function=lambda s: len(state_cost),\n",
    "        unit_cost=lambda a: len(a),\n",
    "    )\n",
    "\n",
    "    logging.info(\n",
    "        f\"Found min solution for N={N}: w={sum(len(_) for _ in min_state.data)} (bloat={(sum(len(_) for _ in min_state.data)-N)/N*100:.0f}%)\"\n",
    "    )"
   ]
  },
  {
   "cell_type": "code",
   "execution_count": null,
   "metadata": {},
   "outputs": [],
   "source": []
  }
 ],
 "metadata": {
  "kernelspec": {
   "display_name": "ci_kern",
   "language": "python",
   "name": "ci_kern"
  },
  "language_info": {
   "codemirror_mode": {
    "name": "ipython",
    "version": 3
   },
   "file_extension": ".py",
   "mimetype": "text/x-python",
   "name": "python",
   "nbconvert_exporter": "python",
   "pygments_lexer": "ipython3",
   "version": "3.8.10"
  },
  "orig_nbformat": 4,
  "vscode": {
   "interpreter": {
    "hash": "84afcd7856eac25399e5a19ed93cf94ba8d1e3aef5c4b483f950cdd3ad26e02c"
   }
  }
 },
 "nbformat": 4,
 "nbformat_minor": 2
}
