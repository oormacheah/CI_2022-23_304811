{
 "cells": [
  {
   "cell_type": "code",
   "execution_count": 1,
   "metadata": {},
   "outputs": [],
   "source": [
    "import logging\n",
    "import numpy as np\n",
    "import random\n",
    "from math import inf\n",
    "from itertools import chain\n",
    "from typing import Callable\n",
    "from gx_utils import *\n",
    "\n",
    "logging.basicConfig(format=\"%(message)s\", level=logging.INFO)"
   ]
  },
  {
   "cell_type": "markdown",
   "metadata": {},
   "source": [
    "Graph search for the Set Covering problem"
   ]
  },
  {
   "cell_type": "code",
   "execution_count": 2,
   "metadata": {},
   "outputs": [],
   "source": [
    "class State:\n",
    "    def __init__(self, data: list):\n",
    "        self._list = sorted(data.copy())\n",
    "        self.set_covered = set(chain(*self._list))\n",
    "\n",
    "    def __hash__(self):\n",
    "        return hash(bytes(chain(*self._list)))\n",
    "\n",
    "    def __eq__(self, other):\n",
    "        return bytes(self.set_covered) == bytes(other.set_covered)\n",
    "\n",
    "    def __contains__(self, other):\n",
    "        return set(other) in self.set_covered\n",
    "\n",
    "    def __le__(self, other):\n",
    "        return self.set_covered <= other._set\n",
    "\n",
    "    def __lt__(self, other):\n",
    "        return self.set_covered < other._set\n",
    "\n",
    "    def __str__(self):\n",
    "        return str(chain(*self._list))\n",
    "\n",
    "    def __repr__(self):\n",
    "        return repr(self._list)\n",
    "\n",
    "    def covers(self, other: list):\n",
    "        return set(other) <= self.set_covered\n",
    "\n",
    "    @property\n",
    "    def data(self):\n",
    "        return self._list\n",
    "\n",
    "    def copy_data(self):\n",
    "        return self._list.copy()"
   ]
  },
  {
   "cell_type": "code",
   "execution_count": 3,
   "metadata": {},
   "outputs": [],
   "source": [
    "def goal_test(state):\n",
    "    return state.set_covered == goal"
   ]
  },
  {
   "cell_type": "code",
   "execution_count": 4,
   "metadata": {},
   "outputs": [],
   "source": [
    "# def is_valid(list_of_lists: list, l: list):\n",
    "#     return (not set(l) <= set(chain(*list_of_lists))) # If this was just a \"<\", duplicates are allowed\n",
    "\n",
    "def possible_actions(state: State):\n",
    "    return (l for l in all_lists if not state.covers(l))"
   ]
  },
  {
   "cell_type": "code",
   "execution_count": 5,
   "metadata": {},
   "outputs": [],
   "source": [
    "def result(state, action):\n",
    "    current_list = state.copy_data()\n",
    "    current_list.append(action)\n",
    "    return State(current_list)"
   ]
  },
  {
   "cell_type": "code",
   "execution_count": 6,
   "metadata": {},
   "outputs": [],
   "source": [
    "def problem(N, seed=None):\n",
    "    random.seed(seed)\n",
    "    return [\n",
    "        list(set(random.randint(0, N - 1) for n in range(random.randint(N // 5, N // 2))))\n",
    "        for n in range(random.randint(N, N * 5))\n",
    "    ]"
   ]
  },
  {
   "cell_type": "markdown",
   "metadata": {},
   "source": [
    "Generalized search algorithm"
   ]
  },
  {
   "cell_type": "code",
   "execution_count": 7,
   "metadata": {},
   "outputs": [],
   "source": [
    "def search_min(\n",
    "    initial_state: State,\n",
    "    goal_test: Callable,\n",
    "    parent_state: dict,\n",
    "    state_cost: dict,\n",
    "    priority_function: Callable,\n",
    "    unit_cost: Callable,\n",
    "):\n",
    "    frontier = PriorityQueue()\n",
    "    parent_state.clear()\n",
    "    state_cost.clear()\n",
    "\n",
    "    state = initial_state\n",
    "    parent_state[state] = None\n",
    "    state_cost[state] = 0\n",
    "\n",
    "    min_cost = inf\n",
    "    min_state = None\n",
    "\n",
    "    i = 0\n",
    "    n_frontier = 0\n",
    "    \n",
    "    while state is not None:\n",
    "        logging.debug(f'i = {i}')\n",
    "        logging.debug(f'Current state -> {state.data}')\n",
    "\n",
    "        if goal_test(state):\n",
    "            logging.debug(f'Found a solution: {state.data}')\n",
    "            if state_cost[state] < min_cost:\n",
    "                logging.debug(f'Updating min cost -> {state_cost[state]}')\n",
    "                min_cost = state_cost[state]\n",
    "                min_state = state\n",
    "                logging.info(f'New best solution: w = {min_cost} steps = {len(state.data)} (visited {i} nodes)')\n",
    "        else:\n",
    "            for a in possible_actions(state):\n",
    "                new_state = result(state, a)\n",
    "                cost = unit_cost(a)\n",
    "                if new_state not in state_cost and new_state not in frontier:\n",
    "                    parent_state[new_state] = state\n",
    "                    state_cost[new_state] = state_cost[state] + cost\n",
    "                    frontier.push(new_state, p=priority_function(new_state))\n",
    "                    n_frontier += 1\n",
    "                    logging.debug(f\"Added new node ({n_frontier}) to frontier (cost={state_cost[new_state]}) -> {new_state.data}\")\n",
    "                elif new_state in frontier and state_cost[new_state] > state_cost[state] + cost:\n",
    "                    old_cost = state_cost[new_state]\n",
    "                    parent_state[new_state] = state\n",
    "                    state_cost[new_state] = state_cost[state] + cost\n",
    "                    logging.debug(f\"Updated node cost in frontier: {old_cost} -> {state_cost[new_state]}\")\n",
    "\n",
    "        if frontier:\n",
    "            state = frontier.pop()\n",
    "        else:\n",
    "            state = None\n",
    "        \n",
    "        i += 1\n",
    "\n",
    "    logging.debug(f'total nodes in frontier: {n_frontier}')\n",
    "\n",
    "    path = list()\n",
    "    s = min_state\n",
    "    while s:\n",
    "        path.append(s.copy_data())\n",
    "        s = parent_state[s]\n",
    "\n",
    "    logging.info(f'Done in {i} iterations of the main loop')\n",
    "\n",
    "    print('Path followed:')\n",
    "    print(list(enumerate(reversed(path))))\n",
    "\n",
    "    return min_state"
   ]
  },
  {
   "cell_type": "markdown",
   "metadata": {},
   "source": [
    "Breadth-First"
   ]
  },
  {
   "cell_type": "code",
   "execution_count": 8,
   "metadata": {},
   "outputs": [
    {
     "name": "stderr",
     "output_type": "stream",
     "text": [
      "New best solution: w = 5 steps = 3 (visited 56 nodes)\n",
      "Done in 351 iterations of the main loop\n",
      "Found min solution for N=5: w=5 (bloat=0%)\n"
     ]
    },
    {
     "name": "stdout",
     "output_type": "stream",
     "text": [
      "Path followed:\n",
      "[(0, []), (1, [[0]]), (2, [[0], [1, 3]]), (3, [[0], [1, 3], [2, 4]])]\n"
     ]
    }
   ],
   "source": [
    "logging.getLogger().setLevel(logging.INFO)\n",
    "\n",
    "# for N in [5, 10, 20, 100, 500, 1000]:\n",
    "for N in [5]:\n",
    "    goal = set(range(N))\n",
    "    initial_state = State(list())\n",
    "\n",
    "    all_lists = problem(N, seed=42)\n",
    "\n",
    "    parent_state = dict()\n",
    "    state_cost = dict()\n",
    "\n",
    "    min_state = search_min(\n",
    "        initial_state,\n",
    "        goal_test=goal_test,\n",
    "        parent_state=parent_state,\n",
    "        state_cost=state_cost,\n",
    "        priority_function=lambda s: len(state_cost),\n",
    "        unit_cost=lambda a: len(a),\n",
    "    )\n",
    "\n",
    "    logging.info(\n",
    "        f\"Found min solution for N={N}: w={sum(len(_) for _ in min_state.data)} (bloat={(sum(len(_) for _ in min_state.data)-N)/N*100:.0f}%)\"\n",
    "    )"
   ]
  },
  {
   "cell_type": "markdown",
   "metadata": {},
   "source": [
    "Depth-First"
   ]
  },
  {
   "cell_type": "code",
   "execution_count": 9,
   "metadata": {},
   "outputs": [
    {
     "name": "stderr",
     "output_type": "stream",
     "text": [
      "New best solution: w = 8 steps = 4 (visited 4 nodes)\n",
      "New best solution: w = 7 steps = 4 (visited 6 nodes)\n",
      "New best solution: w = 6 steps = 3 (visited 7 nodes)\n",
      "New best solution: w = 5 steps = 3 (visited 24 nodes)\n",
      "Done in 351 iterations of the main loop\n",
      "Found min solution for N=5: w=5 (bloat=0%)\n"
     ]
    },
    {
     "name": "stdout",
     "output_type": "stream",
     "text": [
      "Path followed:\n",
      "[(0, []), (1, [[2, 3]]), (2, [[0, 1], [2, 3]]), (3, [[0, 1], [2, 3], [4]])]\n"
     ]
    }
   ],
   "source": [
    "logging.getLogger().setLevel(logging.INFO)\n",
    "\n",
    "# for N in [5, 10, 20, 100, 500, 1000]:\n",
    "for N in [5]:\n",
    "    goal = set(range(N))\n",
    "    initial_state = State(list())\n",
    "\n",
    "    all_lists = problem(N, seed=42)\n",
    "\n",
    "    parent_state = dict()\n",
    "    state_cost = dict()\n",
    "\n",
    "    min_state = search_min(\n",
    "        initial_state,\n",
    "        goal_test=goal_test,\n",
    "        parent_state=parent_state,\n",
    "        state_cost=state_cost,\n",
    "        priority_function=lambda s: -len(state_cost),\n",
    "        unit_cost=lambda a: len(a),\n",
    "    )\n",
    "\n",
    "    logging.info(\n",
    "        f\"Found min solution for N={N}: w={sum(len(_) for _ in min_state.data)} (bloat={(sum(len(_) for _ in min_state.data)-N)/N*100:.0f}%)\"\n",
    "    )"
   ]
  }
 ],
 "metadata": {
  "kernelspec": {
   "display_name": "ci_kern",
   "language": "python",
   "name": "ci_kern"
  },
  "language_info": {
   "codemirror_mode": {
    "name": "ipython",
    "version": 3
   },
   "file_extension": ".py",
   "mimetype": "text/x-python",
   "name": "python",
   "nbconvert_exporter": "python",
   "pygments_lexer": "ipython3",
   "version": "3.8.10"
  },
  "orig_nbformat": 4,
  "vscode": {
   "interpreter": {
    "hash": "84afcd7856eac25399e5a19ed93cf94ba8d1e3aef5c4b483f950cdd3ad26e02c"
   }
  }
 },
 "nbformat": 4,
 "nbformat_minor": 2
}
