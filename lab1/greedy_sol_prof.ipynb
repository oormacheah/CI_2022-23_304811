{
 "cells": [
  {
   "cell_type": "code",
   "execution_count": 6,
   "metadata": {},
   "outputs": [],
   "source": [
    "import random"
   ]
  },
  {
   "cell_type": "code",
   "execution_count": 16,
   "metadata": {},
   "outputs": [],
   "source": [
    "def problem(N, seed=None):\n",
    "    random.seed(seed)\n",
    "    return [\n",
    "        list(set(random.randint(0, N - 1) for n in range(random.randint(N // 5, N // 2))))\n",
    "        for n in range(random.randint(N, N * 5))\n",
    "    ]"
   ]
  },
  {
   "cell_type": "code",
   "execution_count": 21,
   "metadata": {},
   "outputs": [],
   "source": [
    "import logging\n",
    "\n",
    "\n",
    "def greedy(N):\n",
    "    goal = set(range(N))\n",
    "    covered = set()\n",
    "    solution = list()\n",
    "    all_lists = sorted(problem(N, seed=42), key=lambda l: len(l))\n",
    "    while goal != covered:\n",
    "        x = all_lists.pop(0)\n",
    "        if not set(x) < covered:\n",
    "            solution.append(x)\n",
    "            covered |= set(x)\n",
    "\n",
    "    logging.info(\n",
    "        f\"Greedy solution for N={N}: w={sum(len(_) for _ in solution)} (bloat={(sum(len(_) for _ in solution)-N)/N*100:.0f}%)\"\n",
    "    )\n",
    "    logging.debug(f\"{solution}\")"
   ]
  },
  {
   "cell_type": "code",
   "execution_count": 23,
   "metadata": {},
   "outputs": [
    {
     "name": "stderr",
     "output_type": "stream",
     "text": [
      "INFO:root:Greedy solution for N=10: w=13 (bloat=30%)\n"
     ]
    },
    {
     "name": "stdout",
     "output_type": "stream",
     "text": [
      "{6}\n",
      "set()\n",
      "\n",
      "\n",
      "{0, 4}\n",
      "{6}\n",
      "\n",
      "\n",
      "{9, 6}\n",
      "{0, 4, 6}\n",
      "\n",
      "\n",
      "{0, 1}\n",
      "{0, 4, 6, 9}\n",
      "\n",
      "\n",
      "{8, 3}\n",
      "{0, 1, 4, 6, 9}\n",
      "\n",
      "\n",
      "{1, 6}\n",
      "{0, 1, 3, 4, 6, 8, 9}\n",
      "\n",
      "\n",
      "{0, 3}\n",
      "{0, 1, 3, 4, 6, 8, 9}\n",
      "\n",
      "\n",
      "{0, 3}\n",
      "{0, 1, 3, 4, 6, 8, 9}\n",
      "\n",
      "\n",
      "{9, 6}\n",
      "{0, 1, 3, 4, 6, 8, 9}\n",
      "\n",
      "\n",
      "{0, 1}\n",
      "{0, 1, 3, 4, 6, 8, 9}\n",
      "\n",
      "\n",
      "{2, 5}\n",
      "{0, 1, 3, 4, 6, 8, 9}\n",
      "\n",
      "\n",
      "{9, 5}\n",
      "{0, 1, 2, 3, 4, 5, 6, 8, 9}\n",
      "\n",
      "\n",
      "{9, 3}\n",
      "{0, 1, 2, 3, 4, 5, 6, 8, 9}\n",
      "\n",
      "\n",
      "{1, 7}\n",
      "{0, 1, 2, 3, 4, 5, 6, 8, 9}\n",
      "\n",
      "\n"
     ]
    }
   ],
   "source": [
    "logging.getLogger().setLevel(logging.INFO)\n",
    "for N in [5, 10, 20, 100, 500, 1000]:\n",
    "    greedy(N)"
   ]
  },
  {
   "cell_type": "code",
   "execution_count": 10,
   "metadata": {},
   "outputs": [
    {
     "name": "stderr",
     "output_type": "stream",
     "text": [
      "INFO:root:Greedy solution for N=1000: w=4652 (bloat=365%)\n",
      "INFO:root:Greedy solution for N=1000: w=4652 (bloat=365%)\n",
      "INFO:root:Greedy solution for N=1000: w=4652 (bloat=365%)\n",
      "INFO:root:Greedy solution for N=1000: w=4652 (bloat=365%)\n",
      "INFO:root:Greedy solution for N=1000: w=4652 (bloat=365%)\n",
      "INFO:root:Greedy solution for N=1000: w=4652 (bloat=365%)\n",
      "INFO:root:Greedy solution for N=1000: w=4652 (bloat=365%)\n",
      "INFO:root:Greedy solution for N=1000: w=4652 (bloat=365%)\n"
     ]
    },
    {
     "name": "stdout",
     "output_type": "stream",
     "text": [
      "3.22 s ± 108 ms per loop (mean ± std. dev. of 7 runs, 1 loop each)\n"
     ]
    }
   ],
   "source": [
    "%timeit greedy(1_000)\n"
   ]
  },
  {
   "cell_type": "code",
   "execution_count": null,
   "metadata": {},
   "outputs": [],
   "source": []
  }
 ],
 "metadata": {
  "kernelspec": {
   "display_name": "ci_kern",
   "language": "python",
   "name": "ci_kern"
  },
  "language_info": {
   "codemirror_mode": {
    "name": "ipython",
    "version": 3
   },
   "file_extension": ".py",
   "mimetype": "text/x-python",
   "name": "python",
   "nbconvert_exporter": "python",
   "pygments_lexer": "ipython3",
   "version": "3.8.10"
  },
  "orig_nbformat": 4,
  "vscode": {
   "interpreter": {
    "hash": "84afcd7856eac25399e5a19ed93cf94ba8d1e3aef5c4b483f950cdd3ad26e02c"
   }
  }
 },
 "nbformat": 4,
 "nbformat_minor": 2
}
